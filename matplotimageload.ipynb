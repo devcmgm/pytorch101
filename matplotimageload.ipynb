{
  "nbformat": 4,
  "nbformat_minor": 0,
  "metadata": {
    "colab": {
      "name": "Untitled3.ipynb",
      "provenance": [],
      "collapsed_sections": [],
      "toc_visible": true,
      "authorship_tag": "ABX9TyOsjXnrq7jFgB1TX0ZvPrnu",
      "include_colab_link": true
    },
    "kernelspec": {
      "name": "python3",
      "display_name": "Python 3"
    }
  },
  "cells": [
    {
      "cell_type": "markdown",
      "metadata": {
        "id": "view-in-github",
        "colab_type": "text"
      },
      "source": [
        "<a href=\"https://colab.research.google.com/github/devcmgm/pytorch101/blob/master/matplotimageload.ipynb\" target=\"_parent\"><img src=\"https://colab.research.google.com/assets/colab-badge.svg\" alt=\"Open In Colab\"/></a>"
      ]
    },
    {
      "cell_type": "code",
      "metadata": {
        "id": "xwGB35pyXlLH",
        "colab_type": "code",
        "colab": {
          "base_uri": "https://localhost:8080/",
          "height": 850
        },
        "outputId": "61f22cd4-acdc-47a4-8cb4-7dba3076158c"
      },
      "source": [
        "import matplotlib.pyplot as plt\n",
        "import matplotlib.image as mpimg\n",
        "img = mpimg.imread('blm1619.jpg')\n",
        "print(img)"
      ],
      "execution_count": 4,
      "outputs": [
        {
          "output_type": "stream",
          "text": [
            "[[[ 21  20  25]\n",
            "  [ 25  24  29]\n",
            "  [ 26  25  30]\n",
            "  ...\n",
            "  [ 10  18  20]\n",
            "  [ 12  20  22]\n",
            "  [ 16  24  26]]\n",
            "\n",
            " [[ 23  23  25]\n",
            "  [ 32  32  34]\n",
            "  [ 37  37  39]\n",
            "  ...\n",
            "  [ 10  18  20]\n",
            "  [  2  10  12]\n",
            "  [ 20  28  30]]\n",
            "\n",
            " [[ 32  30  33]\n",
            "  [ 38  36  39]\n",
            "  [ 43  41  44]\n",
            "  ...\n",
            "  [ 35  43  45]\n",
            "  [ 25  33  35]\n",
            "  [ 27  35  37]]\n",
            "\n",
            " ...\n",
            "\n",
            " [[180 164 138]\n",
            "  [184 168 142]\n",
            "  [184 169 140]\n",
            "  ...\n",
            "  [244 201  63]\n",
            "  [248 205  67]\n",
            "  [251 208  70]]\n",
            "\n",
            " [[181 165 139]\n",
            "  [181 166 137]\n",
            "  [182 167 138]\n",
            "  ...\n",
            "  [242 199  61]\n",
            "  [249 206  68]\n",
            "  [253 210  72]]\n",
            "\n",
            " [[184 169 140]\n",
            "  [180 165 136]\n",
            "  [180 165 136]\n",
            "  ...\n",
            "  [240 197  59]\n",
            "  [249 206  68]\n",
            "  [254 211  73]]]\n"
          ],
          "name": "stdout"
        }
      ]
    }
  ]
}